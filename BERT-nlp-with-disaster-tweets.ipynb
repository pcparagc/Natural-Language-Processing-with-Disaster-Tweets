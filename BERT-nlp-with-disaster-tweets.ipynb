{
 "cells": [
  {
   "cell_type": "code",
   "execution_count": 1,
   "id": "d950b0a2",
   "metadata": {
    "execution": {
     "iopub.execute_input": "2023-05-19T08:38:48.161252Z",
     "iopub.status.busy": "2023-05-19T08:38:48.160479Z",
     "iopub.status.idle": "2023-05-19T08:38:48.165403Z",
     "shell.execute_reply": "2023-05-19T08:38:48.164559Z"
    },
    "id": "jj0LPMF13xl4",
    "outputId": "cf674505-7523-4f09-a06d-e6c40c88c45e",
    "papermill": {
     "duration": 0.019679,
     "end_time": "2023-05-19T08:38:48.169213",
     "exception": false,
     "start_time": "2023-05-19T08:38:48.149534",
     "status": "completed"
    },
    "tags": []
   },
   "outputs": [],
   "source": [
    "# !pip install -q -U tensorflow-text\n",
    "# !pip install -q tf-models-official\n",
    "# !pip install tensorflow_hub"
   ]
  },
  {
   "cell_type": "markdown",
   "id": "e84cf11b",
   "metadata": {
    "papermill": {
     "duration": 0.006824,
     "end_time": "2023-05-19T08:38:48.183224",
     "exception": false,
     "start_time": "2023-05-19T08:38:48.176400",
     "status": "completed"
    },
    "tags": []
   },
   "source": [
    "# **Note:** \n",
    "It is not recommended to remove features like stopwords, numbers, repeating characters, Stem & Lemm, and punctuations for the BERT model. Removing these can be a bad idea for the BERT model because BERT is a pre-trained model and these features can give a negative impact on the accuracy. Because single punctuation or repeating characters or words also shows some emotions. You can always do experiments to check which features give what impact, it will vary based on the dataset."
   ]
  },
  {
   "cell_type": "code",
   "execution_count": 2,
   "id": "dc88d62e",
   "metadata": {
    "execution": {
     "iopub.execute_input": "2023-05-19T08:38:48.198790Z",
     "iopub.status.busy": "2023-05-19T08:38:48.198239Z",
     "iopub.status.idle": "2023-05-19T08:38:48.202309Z",
     "shell.execute_reply": "2023-05-19T08:38:48.201529Z"
    },
    "papermill": {
     "duration": 0.013604,
     "end_time": "2023-05-19T08:38:48.204074",
     "exception": false,
     "start_time": "2023-05-19T08:38:48.190470",
     "status": "completed"
    },
    "tags": []
   },
   "outputs": [],
   "source": [
    "# !pip uninstall tensorflow-text\n",
    "# !pip install tensorflow-tex"
   ]
  },
  {
   "cell_type": "markdown",
   "id": "46120848",
   "metadata": {
    "papermill": {
     "duration": 0.006934,
     "end_time": "2023-05-19T08:38:48.218343",
     "exception": false,
     "start_time": "2023-05-19T08:38:48.211409",
     "status": "completed"
    },
    "tags": []
   },
   "source": []
  },
  {
   "cell_type": "code",
   "execution_count": null,
   "id": "687d260d",
   "metadata": {
    "papermill": {
     "duration": 0.007074,
     "end_time": "2023-05-19T08:38:48.232684",
     "exception": false,
     "start_time": "2023-05-19T08:38:48.225610",
     "status": "completed"
    },
    "tags": []
   },
   "outputs": [],
   "source": []
  },
  {
   "cell_type": "code",
   "execution_count": 3,
   "id": "1f5acb54",
   "metadata": {
    "execution": {
     "iopub.execute_input": "2023-05-19T08:38:48.248877Z",
     "iopub.status.busy": "2023-05-19T08:38:48.247911Z",
     "iopub.status.idle": "2023-05-19T08:39:01.313770Z",
     "shell.execute_reply": "2023-05-19T08:39:01.312851Z"
    },
    "id": "M00HMxyi3ASB",
    "outputId": "7123a371-5f97-4d3b-dad7-46c7ff09746a",
    "papermill": {
     "duration": 13.076503,
     "end_time": "2023-05-19T08:39:01.316096",
     "exception": false,
     "start_time": "2023-05-19T08:38:48.239593",
     "status": "completed"
    },
    "tags": []
   },
   "outputs": [
    {
     "name": "stderr",
     "output_type": "stream",
     "text": [
      "/opt/conda/lib/python3.10/site-packages/scipy/__init__.py:146: UserWarning: A NumPy version >=1.16.5 and <1.23.0 is required for this version of SciPy (detected version 1.23.5\n",
      "  warnings.warn(f\"A NumPy version >={np_minversion} and <{np_maxversion}\"\n"
     ]
    },
    {
     "name": "stdout",
     "output_type": "stream",
     "text": [
      "[nltk_data] Downloading package stopwords to /usr/share/nltk_data...\n",
      "[nltk_data]   Package stopwords is already up-to-date!\n",
      "[nltk_data] Downloading package punkt to /usr/share/nltk_data...\n",
      "[nltk_data]   Package punkt is already up-to-date!\n"
     ]
    }
   ],
   "source": [
    "\n",
    "import re\n",
    "import numpy as np\n",
    "import pandas as pd\n",
    "import seaborn as sns\n",
    "import matplotlib.pyplot as plt\n",
    "import itertools\n",
    "import tensorflow as tf\n",
    "import tensorflow_hub as hub\n",
    "import tensorflow_text as text\n",
    "from tensorflow.keras.layers import Input, Dense\n",
    "from sklearn.model_selection import train_test_split\n",
    "from sklearn import metrics\n",
    "from sklearn.metrics import classification_report, confusion_matrix, accuracy_score\n",
    "import wordcloud\n",
    "import nltk\n",
    "\n",
    "nltk.download('stopwords')\n",
    "nltk.download('punkt')\n",
    "from nltk.corpus import stopwords\n",
    "from nltk.stem import PorterStemmer, SnowballStemmer\n",
    "\n",
    "from nltk.stem import WordNetLemmatizer\n",
    "from nltk.tokenize import word_tokenize\n",
    "\n",
    "from keras import backend as K\n",
    "from transformers import AutoTokenizer, TFBertModel\n",
    "from tensorflow.keras.optimizers import Adam\n",
    "from tensorflow.keras.metrics import CategoricalAccuracy, BinaryAccuracy\n",
    "from tensorflow.keras.losses import CategoricalCrossentropy, BinaryCrossentropy\n",
    "\n",
    "\n",
    "sns.set_style(\"whitegrid\")"
   ]
  },
  {
   "cell_type": "code",
   "execution_count": null,
   "id": "31d4c56d",
   "metadata": {
    "papermill": {
     "duration": 0.007186,
     "end_time": "2023-05-19T08:39:01.332661",
     "exception": false,
     "start_time": "2023-05-19T08:39:01.325475",
     "status": "completed"
    },
    "tags": []
   },
   "outputs": [],
   "source": []
  },
  {
   "cell_type": "code",
   "execution_count": 4,
   "id": "2e60a3bb",
   "metadata": {
    "execution": {
     "iopub.execute_input": "2023-05-19T08:39:01.348329Z",
     "iopub.status.busy": "2023-05-19T08:39:01.347798Z",
     "iopub.status.idle": "2023-05-19T08:39:01.435422Z",
     "shell.execute_reply": "2023-05-19T08:39:01.434438Z"
    },
    "id": "QRm2Lhja3kDG",
    "outputId": "667a954f-644c-40cc-88b4-7a08a9dc6eb7",
    "papermill": {
     "duration": 0.097964,
     "end_time": "2023-05-19T08:39:01.437759",
     "exception": false,
     "start_time": "2023-05-19T08:39:01.339795",
     "status": "completed"
    },
    "tags": []
   },
   "outputs": [
    {
     "data": {
      "text/html": [
       "<div>\n",
       "<style scoped>\n",
       "    .dataframe tbody tr th:only-of-type {\n",
       "        vertical-align: middle;\n",
       "    }\n",
       "\n",
       "    .dataframe tbody tr th {\n",
       "        vertical-align: top;\n",
       "    }\n",
       "\n",
       "    .dataframe thead th {\n",
       "        text-align: right;\n",
       "    }\n",
       "</style>\n",
       "<table border=\"1\" class=\"dataframe\">\n",
       "  <thead>\n",
       "    <tr style=\"text-align: right;\">\n",
       "      <th></th>\n",
       "      <th>id</th>\n",
       "      <th>keyword</th>\n",
       "      <th>location</th>\n",
       "      <th>text</th>\n",
       "      <th>target</th>\n",
       "    </tr>\n",
       "  </thead>\n",
       "  <tbody>\n",
       "    <tr>\n",
       "      <th>0</th>\n",
       "      <td>1</td>\n",
       "      <td>NaN</td>\n",
       "      <td>NaN</td>\n",
       "      <td>Our Deeds are the Reason of this #earthquake M...</td>\n",
       "      <td>1</td>\n",
       "    </tr>\n",
       "    <tr>\n",
       "      <th>1</th>\n",
       "      <td>4</td>\n",
       "      <td>NaN</td>\n",
       "      <td>NaN</td>\n",
       "      <td>Forest fire near La Ronge Sask. Canada</td>\n",
       "      <td>1</td>\n",
       "    </tr>\n",
       "    <tr>\n",
       "      <th>2</th>\n",
       "      <td>5</td>\n",
       "      <td>NaN</td>\n",
       "      <td>NaN</td>\n",
       "      <td>All residents asked to 'shelter in place' are ...</td>\n",
       "      <td>1</td>\n",
       "    </tr>\n",
       "    <tr>\n",
       "      <th>3</th>\n",
       "      <td>6</td>\n",
       "      <td>NaN</td>\n",
       "      <td>NaN</td>\n",
       "      <td>13,000 people receive #wildfires evacuation or...</td>\n",
       "      <td>1</td>\n",
       "    </tr>\n",
       "    <tr>\n",
       "      <th>4</th>\n",
       "      <td>7</td>\n",
       "      <td>NaN</td>\n",
       "      <td>NaN</td>\n",
       "      <td>Just got sent this photo from Ruby #Alaska as ...</td>\n",
       "      <td>1</td>\n",
       "    </tr>\n",
       "  </tbody>\n",
       "</table>\n",
       "</div>"
      ],
      "text/plain": [
       "   id keyword location                                               text  \\\n",
       "0   1     NaN      NaN  Our Deeds are the Reason of this #earthquake M...   \n",
       "1   4     NaN      NaN             Forest fire near La Ronge Sask. Canada   \n",
       "2   5     NaN      NaN  All residents asked to 'shelter in place' are ...   \n",
       "3   6     NaN      NaN  13,000 people receive #wildfires evacuation or...   \n",
       "4   7     NaN      NaN  Just got sent this photo from Ruby #Alaska as ...   \n",
       "\n",
       "   target  \n",
       "0       1  \n",
       "1       1  \n",
       "2       1  \n",
       "3       1  \n",
       "4       1  "
      ]
     },
     "execution_count": 4,
     "metadata": {},
     "output_type": "execute_result"
    }
   ],
   "source": [
    "train = pd.read_csv('/kaggle/input/nlp-getting-started/train.csv')\n",
    "test = pd.read_csv('/kaggle/input/nlp-getting-started/test.csv')\n",
    "train.head()"
   ]
  },
  {
   "cell_type": "code",
   "execution_count": 5,
   "id": "d4b53353",
   "metadata": {
    "execution": {
     "iopub.execute_input": "2023-05-19T08:39:01.454253Z",
     "iopub.status.busy": "2023-05-19T08:39:01.453959Z",
     "iopub.status.idle": "2023-05-19T08:39:01.468792Z",
     "shell.execute_reply": "2023-05-19T08:39:01.467873Z"
    },
    "papermill": {
     "duration": 0.025334,
     "end_time": "2023-05-19T08:39:01.470773",
     "exception": false,
     "start_time": "2023-05-19T08:39:01.445439",
     "status": "completed"
    },
    "tags": []
   },
   "outputs": [
    {
     "data": {
      "text/html": [
       "<div>\n",
       "<style scoped>\n",
       "    .dataframe tbody tr th:only-of-type {\n",
       "        vertical-align: middle;\n",
       "    }\n",
       "\n",
       "    .dataframe tbody tr th {\n",
       "        vertical-align: top;\n",
       "    }\n",
       "\n",
       "    .dataframe thead th {\n",
       "        text-align: right;\n",
       "    }\n",
       "</style>\n",
       "<table border=\"1\" class=\"dataframe\">\n",
       "  <thead>\n",
       "    <tr style=\"text-align: right;\">\n",
       "      <th></th>\n",
       "      <th>id</th>\n",
       "      <th>text</th>\n",
       "      <th>target</th>\n",
       "    </tr>\n",
       "  </thead>\n",
       "  <tbody>\n",
       "    <tr>\n",
       "      <th>0</th>\n",
       "      <td>1</td>\n",
       "      <td>Our Deeds are the Reason of this #earthquake M...</td>\n",
       "      <td>1</td>\n",
       "    </tr>\n",
       "    <tr>\n",
       "      <th>1</th>\n",
       "      <td>4</td>\n",
       "      <td>Forest fire near La Ronge Sask. Canada</td>\n",
       "      <td>1</td>\n",
       "    </tr>\n",
       "    <tr>\n",
       "      <th>2</th>\n",
       "      <td>5</td>\n",
       "      <td>All residents asked to 'shelter in place' are ...</td>\n",
       "      <td>1</td>\n",
       "    </tr>\n",
       "    <tr>\n",
       "      <th>3</th>\n",
       "      <td>6</td>\n",
       "      <td>13,000 people receive #wildfires evacuation or...</td>\n",
       "      <td>1</td>\n",
       "    </tr>\n",
       "    <tr>\n",
       "      <th>4</th>\n",
       "      <td>7</td>\n",
       "      <td>Just got sent this photo from Ruby #Alaska as ...</td>\n",
       "      <td>1</td>\n",
       "    </tr>\n",
       "  </tbody>\n",
       "</table>\n",
       "</div>"
      ],
      "text/plain": [
       "   id                                               text  target\n",
       "0   1  Our Deeds are the Reason of this #earthquake M...       1\n",
       "1   4             Forest fire near La Ronge Sask. Canada       1\n",
       "2   5  All residents asked to 'shelter in place' are ...       1\n",
       "3   6  13,000 people receive #wildfires evacuation or...       1\n",
       "4   7  Just got sent this photo from Ruby #Alaska as ...       1"
      ]
     },
     "execution_count": 5,
     "metadata": {},
     "output_type": "execute_result"
    }
   ],
   "source": [
    "train = train.drop(['keyword','location'], axis = 1)\n",
    "test = test.drop(['keyword','location'], axis = 1)\n",
    "train.head()"
   ]
  },
  {
   "cell_type": "markdown",
   "id": "a8aa89b4",
   "metadata": {
    "papermill": {
     "duration": 0.007465,
     "end_time": "2023-05-19T08:39:01.485838",
     "exception": false,
     "start_time": "2023-05-19T08:39:01.478373",
     "status": "completed"
    },
    "tags": []
   },
   "source": [
    "Check Shape"
   ]
  },
  {
   "cell_type": "code",
   "execution_count": 6,
   "id": "1ec154db",
   "metadata": {
    "execution": {
     "iopub.execute_input": "2023-05-19T08:39:01.502509Z",
     "iopub.status.busy": "2023-05-19T08:39:01.501684Z",
     "iopub.status.idle": "2023-05-19T08:39:01.507251Z",
     "shell.execute_reply": "2023-05-19T08:39:01.506223Z"
    },
    "papermill": {
     "duration": 0.01591,
     "end_time": "2023-05-19T08:39:01.509217",
     "exception": false,
     "start_time": "2023-05-19T08:39:01.493307",
     "status": "completed"
    },
    "tags": []
   },
   "outputs": [
    {
     "name": "stdout",
     "output_type": "stream",
     "text": [
      "Shape of Train : (7613, 3)\n",
      "Shape of Test : (3263, 2)\n"
     ]
    }
   ],
   "source": [
    "print(\"Shape of Train :\", train.shape)\n",
    "print(\"Shape of Test :\", test.shape)"
   ]
  },
  {
   "cell_type": "code",
   "execution_count": 7,
   "id": "e6f872a4",
   "metadata": {
    "execution": {
     "iopub.execute_input": "2023-05-19T08:39:01.526433Z",
     "iopub.status.busy": "2023-05-19T08:39:01.525576Z",
     "iopub.status.idle": "2023-05-19T08:39:01.536138Z",
     "shell.execute_reply": "2023-05-19T08:39:01.535184Z"
    },
    "id": "fleUSdtI3kOZ",
    "outputId": "a8196139-0e5d-4bf4-e691-0de9b672c36a",
    "papermill": {
     "duration": 0.021263,
     "end_time": "2023-05-19T08:39:01.538081",
     "exception": false,
     "start_time": "2023-05-19T08:39:01.516818",
     "status": "completed"
    },
    "tags": []
   },
   "outputs": [
    {
     "data": {
      "text/plain": [
       "0    4342\n",
       "1    3271\n",
       "Name: target, dtype: int64"
      ]
     },
     "execution_count": 7,
     "metadata": {},
     "output_type": "execute_result"
    }
   ],
   "source": [
    "train_set = train.copy()\n",
    "train_set['target'].value_counts()"
   ]
  },
  {
   "cell_type": "markdown",
   "id": "d0c599bd",
   "metadata": {
    "id": "oV4EGmipG-1y",
    "papermill": {
     "duration": 0.007529,
     "end_time": "2023-05-19T08:39:01.553311",
     "exception": false,
     "start_time": "2023-05-19T08:39:01.545782",
     "status": "completed"
    },
    "tags": []
   },
   "source": [
    "# BERT "
   ]
  },
  {
   "cell_type": "code",
   "execution_count": 8,
   "id": "a67784a2",
   "metadata": {
    "execution": {
     "iopub.execute_input": "2023-05-19T08:39:01.570664Z",
     "iopub.status.busy": "2023-05-19T08:39:01.569775Z",
     "iopub.status.idle": "2023-05-19T08:39:44.066100Z",
     "shell.execute_reply": "2023-05-19T08:39:44.065164Z"
    },
    "id": "_2eseBvNGt8U",
    "papermill": {
     "duration": 42.507557,
     "end_time": "2023-05-19T08:39:44.068532",
     "exception": false,
     "start_time": "2023-05-19T08:39:01.560975",
     "status": "completed"
    },
    "tags": []
   },
   "outputs": [],
   "source": [
    "bert_preprocess = hub.KerasLayer(\"https://tfhub.dev/tensorflow/bert_en_cased_preprocess/3\")\n",
    "bert_encoder = hub.KerasLayer(\"https://tfhub.dev/tensorflow/bert_en_cased_L-24_H-1024_A-16/4\")"
   ]
  },
  {
   "cell_type": "code",
   "execution_count": 9,
   "id": "1481f45f",
   "metadata": {
    "execution": {
     "iopub.execute_input": "2023-05-19T08:39:44.086104Z",
     "iopub.status.busy": "2023-05-19T08:39:44.085806Z",
     "iopub.status.idle": "2023-05-19T08:39:45.236039Z",
     "shell.execute_reply": "2023-05-19T08:39:45.234895Z"
    },
    "id": "CdQ0GPmbGt25",
    "outputId": "553c8161-2566-4907-c334-4264cf135750",
    "papermill": {
     "duration": 1.161293,
     "end_time": "2023-05-19T08:39:45.238169",
     "exception": false,
     "start_time": "2023-05-19T08:39:44.076876",
     "status": "completed"
    },
    "tags": []
   },
   "outputs": [
    {
     "name": "stdout",
     "output_type": "stream",
     "text": [
      "Model: \"model\"\n",
      "__________________________________________________________________________________________________\n",
      " Layer (type)                   Output Shape         Param #     Connected to                     \n",
      "==================================================================================================\n",
      " text (InputLayer)              [(None,)]            0           []                               \n",
      "                                                                                                  \n",
      " keras_layer (KerasLayer)       {'input_word_ids':   0           ['text[0][0]']                   \n",
      "                                (None, 128),                                                      \n",
      "                                 'input_type_ids':                                                \n",
      "                                (None, 128),                                                      \n",
      "                                 'input_mask': (Non                                               \n",
      "                                e, 128)}                                                          \n",
      "                                                                                                  \n",
      " keras_layer_1 (KerasLayer)     {'default': (None,   333579265   ['keras_layer[0][0]',            \n",
      "                                1024),                            'keras_layer[0][1]',            \n",
      "                                 'sequence_output':               'keras_layer[0][2]']            \n",
      "                                 (None, 128, 1024),                                               \n",
      "                                 'encoder_outputs':                                               \n",
      "                                 [(None, 128, 1024)                                               \n",
      "                                , (None, 128, 1024)                                               \n",
      "                                , (None, 128, 1024)                                               \n",
      "                                , (None, 128, 1024)                                               \n",
      "                                , (None, 128, 1024)                                               \n",
      "                                , (None, 128, 1024)                                               \n",
      "                                , (None, 128, 1024)                                               \n",
      "                                , (None, 128, 1024)                                               \n",
      "                                , (None, 128, 1024)                                               \n",
      "                                , (None, 128, 1024)                                               \n",
      "                                , (None, 128, 1024)                                               \n",
      "                                , (None, 128, 1024)                                               \n",
      "                                , (None, 128, 1024)                                               \n",
      "                                , (None, 128, 1024)                                               \n",
      "                                , (None, 128, 1024)                                               \n",
      "                                , (None, 128, 1024)                                               \n",
      "                                , (None, 128, 1024)                                               \n",
      "                                , (None, 128, 1024)                                               \n",
      "                                , (None, 128, 1024)                                               \n",
      "                                , (None, 128, 1024)                                               \n",
      "                                , (None, 128, 1024)                                               \n",
      "                                , (None, 128, 1024)                                               \n",
      "                                , (None, 128, 1024)                                               \n",
      "                                , (None, 128, 1024)                                               \n",
      "                                ],                                                                \n",
      "                                 'pooled_output': (                                               \n",
      "                                None, 1024)}                                                      \n",
      "                                                                                                  \n",
      " dropout (Dropout)              (None, 1024)         0           ['keras_layer_1[0][25]']         \n",
      "                                                                                                  \n",
      " output (Dense)                 (None, 2)            2050        ['dropout[0][0]']                \n",
      "                                                                                                  \n",
      "==================================================================================================\n",
      "Total params: 333,581,315\n",
      "Trainable params: 2,050\n",
      "Non-trainable params: 333,579,265\n",
      "__________________________________________________________________________________________________\n"
     ]
    }
   ],
   "source": [
    "# Bert layers:\n",
    "num_classes = 2\n",
    "text_input = tf.keras.layers.Input(shape=(), dtype=tf.string, name='text')\n",
    "preprocessed_text = bert_preprocess(text_input)\n",
    "outputs = bert_encoder(preprocessed_text)\n",
    "\n",
    "# Neural network layers:\n",
    "l = tf.keras.layers.Dropout(0.2, name='dropout')(outputs['pooled_output'])\n",
    "l = tf.keras.layers.Dense(num_classes, activation='sigmoid', name='output')(l)\n",
    "\n",
    "# Construct final model:\n",
    "model = tf.keras.Model(inputs=[text_input], outputs=[l])\n",
    "model.summary()\n",
    "model.compile(optimizer='adam',\n",
    "              loss='binary_crossentropy',\n",
    "              metrics=['accuracy'])"
   ]
  },
  {
   "cell_type": "code",
   "execution_count": 10,
   "id": "fff16d08",
   "metadata": {
    "execution": {
     "iopub.execute_input": "2023-05-19T08:39:45.263467Z",
     "iopub.status.busy": "2023-05-19T08:39:45.263140Z",
     "iopub.status.idle": "2023-05-19T08:39:45.404417Z",
     "shell.execute_reply": "2023-05-19T08:39:45.403422Z"
    },
    "id": "SMh9FauXHV8-",
    "outputId": "0da8485c-12c4-4f79-fe1b-7d8f9fc9f076",
    "papermill": {
     "duration": 0.156452,
     "end_time": "2023-05-19T08:39:45.406756",
     "exception": false,
     "start_time": "2023-05-19T08:39:45.250304",
     "status": "completed"
    },
    "tags": []
   },
   "outputs": [
    {
     "data": {
      "image/png": "[encoded data removed]",
      "text/plain": [
       "<IPython.core.display.Image object>"
      ]
     },
     "execution_count": 10,
     "metadata": {},
     "output_type": "execute_result"
    }
   ],
   "source": [
    "#Ploting Model Architecture:\n",
    "tf.keras.utils.plot_model(model)"
   ]
  },
  {
   "cell_type": "markdown",
   "id": "86cd9672",
   "metadata": {
    "id": "8DRYvpP9JCXh",
    "papermill": {
     "duration": 0.011985,
     "end_time": "2023-05-19T08:39:45.431196",
     "exception": false,
     "start_time": "2023-05-19T08:39:45.419211",
     "status": "completed"
    },
    "tags": []
   },
   "source": [
    "### Training model:"
   ]
  },
  {
   "cell_type": "code",
   "execution_count": 11,
   "id": "4d357347",
   "metadata": {
    "execution": {
     "iopub.execute_input": "2023-05-19T08:39:45.457376Z",
     "iopub.status.busy": "2023-05-19T08:39:45.457037Z",
     "iopub.status.idle": "2023-05-19T08:39:45.695515Z",
     "shell.execute_reply": "2023-05-19T08:39:45.694544Z"
    },
    "papermill": {
     "duration": 0.254057,
     "end_time": "2023-05-19T08:39:45.697949",
     "exception": false,
     "start_time": "2023-05-19T08:39:45.443892",
     "status": "completed"
    },
    "tags": []
   },
   "outputs": [],
   "source": [
    "stop_word = stopwords.words('english')\n",
    "train_set['text'] = train_set['text'].apply(lambda x: ' '.join([word for word in x.split() if word not in (stop_word)]))"
   ]
  },
  {
   "cell_type": "code",
   "execution_count": 12,
   "id": "3e13d62e",
   "metadata": {
    "execution": {
     "iopub.execute_input": "2023-05-19T08:39:45.723566Z",
     "iopub.status.busy": "2023-05-19T08:39:45.723251Z",
     "iopub.status.idle": "2023-05-19T08:39:48.160080Z",
     "shell.execute_reply": "2023-05-19T08:39:48.159131Z"
    },
    "papermill": {
     "duration": 2.452267,
     "end_time": "2023-05-19T08:39:48.162503",
     "exception": false,
     "start_time": "2023-05-19T08:39:45.710236",
     "status": "completed"
    },
    "tags": []
   },
   "outputs": [],
   "source": [
    "tokens = (word_tokenize(i) for i in train_set.text)\n",
    "train_set['text'] = train_set['text'].apply(nltk.word_tokenize)\n",
    "\n",
    "pattern = re.compile(r'(.)\\1*')\n",
    "\n",
    "def red_sequence(word):\n",
    "    return ''.join([match.group()[:2] if len(match.group()) > 2 else match.group() for match in pattern.finditer(word)])\n",
    "\n",
    "def red_seq_tweet(tweet):\n",
    "    return [red_sequence(word) for word in tweet]\n",
    "train_set.text = train_set.text.apply(lambda tweet: red_seq_tweet(tweet))\n",
    "\n",
    "def listToString(s): \n",
    "    str1 = \" \" \n",
    "    return (str1.join(s))\n",
    "train_set['text'] = train_set['text'].apply(lambda x: listToString(x))"
   ]
  },
  {
   "cell_type": "code",
   "execution_count": 13,
   "id": "28ddcb13",
   "metadata": {
    "execution": {
     "iopub.execute_input": "2023-05-19T08:39:48.188668Z",
     "iopub.status.busy": "2023-05-19T08:39:48.188332Z",
     "iopub.status.idle": "2023-05-19T08:39:48.193918Z",
     "shell.execute_reply": "2023-05-19T08:39:48.193069Z"
    },
    "papermill": {
     "duration": 0.020795,
     "end_time": "2023-05-19T08:39:48.195818",
     "exception": false,
     "start_time": "2023-05-19T08:39:48.175023",
     "status": "completed"
    },
    "tags": []
   },
   "outputs": [
    {
     "data": {
      "text/plain": [
       "'!\"#$%&\\'()*+,-./:;<=>?@[\\\\]^_`{|}~'"
      ]
     },
     "execution_count": 13,
     "metadata": {},
     "output_type": "execute_result"
    }
   ],
   "source": [
    "import string\n",
    "string.punctuation"
   ]
  },
  {
   "cell_type": "code",
   "execution_count": 14,
   "id": "d37f91ff",
   "metadata": {
    "execution": {
     "iopub.execute_input": "2023-05-19T08:39:48.221012Z",
     "iopub.status.busy": "2023-05-19T08:39:48.220520Z",
     "iopub.status.idle": "2023-05-19T08:39:48.268692Z",
     "shell.execute_reply": "2023-05-19T08:39:48.267902Z"
    },
    "papermill": {
     "duration": 0.062784,
     "end_time": "2023-05-19T08:39:48.270560",
     "exception": false,
     "start_time": "2023-05-19T08:39:48.207776",
     "status": "completed"
    },
    "tags": []
   },
   "outputs": [],
   "source": [
    "punctuations_list = string.punctuation\n",
    "def cleaning_punctuations(text):\n",
    "    translator = str.maketrans('', '', punctuations_list)\n",
    "    return text.translate(translator)\n",
    "\n",
    "train_set['text'] = train_set['text'].apply(lambda x: cleaning_punctuations(x))"
   ]
  },
  {
   "cell_type": "code",
   "execution_count": 15,
   "id": "9a46f5db",
   "metadata": {
    "execution": {
     "iopub.execute_input": "2023-05-19T08:39:48.295795Z",
     "iopub.status.busy": "2023-05-19T08:39:48.295541Z",
     "iopub.status.idle": "2023-05-19T08:39:48.336745Z",
     "shell.execute_reply": "2023-05-19T08:39:48.335936Z"
    },
    "papermill": {
     "duration": 0.056099,
     "end_time": "2023-05-19T08:39:48.338849",
     "exception": false,
     "start_time": "2023-05-19T08:39:48.282750",
     "status": "completed"
    },
    "tags": []
   },
   "outputs": [],
   "source": [
    "def cleaning_numbers(text):\n",
    "    return re.sub('[0-9]+', '', text)\n",
    "\n",
    "train_set['text'] = train_set['text'].apply(lambda text: cleaning_numbers(text))"
   ]
  },
  {
   "cell_type": "code",
   "execution_count": 16,
   "id": "e81ce779",
   "metadata": {
    "execution": {
     "iopub.execute_input": "2023-05-19T08:39:48.364064Z",
     "iopub.status.busy": "2023-05-19T08:39:48.363804Z",
     "iopub.status.idle": "2023-05-19T08:39:51.192586Z",
     "shell.execute_reply": "2023-05-19T08:39:51.191547Z"
    },
    "papermill": {
     "duration": 2.844108,
     "end_time": "2023-05-19T08:39:51.194933",
     "exception": false,
     "start_time": "2023-05-19T08:39:48.350825",
     "status": "completed"
    },
    "tags": []
   },
   "outputs": [],
   "source": [
    "# Tokenizing tweets:\n",
    "tokens = (word_tokenize(i) for i in train_set.text)\n",
    "train_set['text'] = train_set['text'].apply(nltk.word_tokenize)\n",
    "\n",
    "stemm = SnowballStemmer('english')\n",
    "train_set['text'] = train_set['text'].apply(lambda x: [stemm.stem(y) for y in x])"
   ]
  },
  {
   "cell_type": "code",
   "execution_count": 17,
   "id": "a07b0a3b",
   "metadata": {
    "execution": {
     "iopub.execute_input": "2023-05-19T08:39:51.221133Z",
     "iopub.status.busy": "2023-05-19T08:39:51.220239Z",
     "iopub.status.idle": "2023-05-19T08:39:51.246257Z",
     "shell.execute_reply": "2023-05-19T08:39:51.245417Z"
    },
    "papermill": {
     "duration": 0.04114,
     "end_time": "2023-05-19T08:39:51.248404",
     "exception": false,
     "start_time": "2023-05-19T08:39:51.207264",
     "status": "completed"
    },
    "tags": []
   },
   "outputs": [],
   "source": [
    "y = tf.keras.utils.to_categorical(train_set['target'].astype(str), num_classes=2)\n",
    "X_train, X_test, y_train, y_test = train_test_split(train_set['text'].astype(str), y, test_size=0.2, random_state=3)"
   ]
  },
  {
   "cell_type": "code",
   "execution_count": 18,
   "id": "b62f5cf7",
   "metadata": {
    "execution": {
     "iopub.execute_input": "2023-05-19T08:39:51.273938Z",
     "iopub.status.busy": "2023-05-19T08:39:51.273170Z",
     "iopub.status.idle": "2023-05-19T09:36:36.686356Z",
     "shell.execute_reply": "2023-05-19T09:36:36.685417Z"
    },
    "id": "GtjGaPN9HV__",
    "outputId": "9f1e6814-f109-4581-9ba7-a3d72acdeb75",
    "papermill": {
     "duration": 3405.832694,
     "end_time": "2023-05-19T09:36:37.093145",
     "exception": false,
     "start_time": "2023-05-19T08:39:51.260451",
     "status": "completed"
    },
    "tags": []
   },
   "outputs": [
    {
     "name": "stdout",
     "output_type": "stream",
     "text": [
      "Epoch 1/30\n",
      "172/172 [==============================] - 125s 615ms/step - loss: 0.7228 - accuracy: 0.5598 - val_loss: 0.6858 - val_accuracy: 0.5550\n",
      "Epoch 2/30\n",
      "172/172 [==============================] - 114s 665ms/step - loss: 0.6974 - accuracy: 0.5844 - val_loss: 0.6841 - val_accuracy: 0.5632\n",
      "Epoch 3/30\n",
      "172/172 [==============================] - 114s 666ms/step - loss: 0.6961 - accuracy: 0.5920 - val_loss: 0.6414 - val_accuracy: 0.6601\n",
      "Epoch 4/30\n",
      "172/172 [==============================] - 114s 665ms/step - loss: 0.6706 - accuracy: 0.6105 - val_loss: 0.6368 - val_accuracy: 0.6305\n",
      "Epoch 5/30\n",
      "172/172 [==============================] - 114s 666ms/step - loss: 0.6637 - accuracy: 0.6263 - val_loss: 0.6844 - val_accuracy: 0.5550\n",
      "Epoch 6/30\n",
      "172/172 [==============================] - 115s 667ms/step - loss: 0.6517 - accuracy: 0.6375 - val_loss: 0.6207 - val_accuracy: 0.6749\n",
      "Epoch 7/30\n",
      "172/172 [==============================] - 115s 667ms/step - loss: 0.6473 - accuracy: 0.6382 - val_loss: 0.6205 - val_accuracy: 0.6667\n",
      "Epoch 8/30\n",
      "172/172 [==============================] - 115s 667ms/step - loss: 0.6376 - accuracy: 0.6442 - val_loss: 0.6145 - val_accuracy: 0.6732\n",
      "Epoch 9/30\n",
      "172/172 [==============================] - 104s 606ms/step - loss: 0.6427 - accuracy: 0.6364 - val_loss: 0.6297 - val_accuracy: 0.6388\n",
      "Epoch 10/30\n",
      "172/172 [==============================] - 105s 608ms/step - loss: 0.6333 - accuracy: 0.6519 - val_loss: 0.6165 - val_accuracy: 0.6667\n",
      "Epoch 11/30\n",
      "172/172 [==============================] - 115s 666ms/step - loss: 0.6255 - accuracy: 0.6612 - val_loss: 0.6208 - val_accuracy: 0.6617\n",
      "Epoch 12/30\n",
      "172/172 [==============================] - 115s 666ms/step - loss: 0.6265 - accuracy: 0.6481 - val_loss: 0.6023 - val_accuracy: 0.6897\n",
      "Epoch 13/30\n",
      "172/172 [==============================] - 114s 665ms/step - loss: 0.6251 - accuracy: 0.6623 - val_loss: 0.5986 - val_accuracy: 0.7011\n",
      "Epoch 14/30\n",
      "172/172 [==============================] - 114s 665ms/step - loss: 0.6246 - accuracy: 0.6574 - val_loss: 0.5930 - val_accuracy: 0.7028\n",
      "Epoch 15/30\n",
      "172/172 [==============================] - 104s 606ms/step - loss: 0.6114 - accuracy: 0.6769 - val_loss: 0.6077 - val_accuracy: 0.6798\n",
      "Epoch 16/30\n",
      "172/172 [==============================] - 104s 607ms/step - loss: 0.6198 - accuracy: 0.6641 - val_loss: 0.6011 - val_accuracy: 0.6880\n",
      "Epoch 17/30\n",
      "172/172 [==============================] - 115s 668ms/step - loss: 0.6081 - accuracy: 0.6818 - val_loss: 0.5920 - val_accuracy: 0.7209\n",
      "Epoch 18/30\n",
      "172/172 [==============================] - 104s 606ms/step - loss: 0.6139 - accuracy: 0.6712 - val_loss: 0.6100 - val_accuracy: 0.6700\n",
      "Epoch 19/30\n",
      "172/172 [==============================] - 115s 666ms/step - loss: 0.6162 - accuracy: 0.6663 - val_loss: 0.5873 - val_accuracy: 0.6929\n",
      "Epoch 20/30\n",
      "172/172 [==============================] - 115s 666ms/step - loss: 0.6092 - accuracy: 0.6800 - val_loss: 0.5920 - val_accuracy: 0.7061\n",
      "Epoch 21/30\n",
      "172/172 [==============================] - 104s 607ms/step - loss: 0.6114 - accuracy: 0.6690 - val_loss: 0.5903 - val_accuracy: 0.6979\n",
      "Epoch 22/30\n",
      "172/172 [==============================] - 104s 606ms/step - loss: 0.6149 - accuracy: 0.6710 - val_loss: 0.6371 - val_accuracy: 0.6322\n",
      "Epoch 23/30\n",
      "172/172 [==============================] - 114s 665ms/step - loss: 0.6175 - accuracy: 0.6658 - val_loss: 0.6582 - val_accuracy: 0.5928\n",
      "Epoch 24/30\n",
      "172/172 [==============================] - 104s 606ms/step - loss: 0.6147 - accuracy: 0.6707 - val_loss: 0.5853 - val_accuracy: 0.7011\n",
      "Epoch 25/30\n",
      "172/172 [==============================] - 114s 666ms/step - loss: 0.6076 - accuracy: 0.6763 - val_loss: 0.5841 - val_accuracy: 0.7044\n",
      "Epoch 26/30\n",
      "172/172 [==============================] - 115s 666ms/step - loss: 0.6079 - accuracy: 0.6785 - val_loss: 0.5840 - val_accuracy: 0.7241\n",
      "Epoch 27/30\n",
      "172/172 [==============================] - 114s 666ms/step - loss: 0.6195 - accuracy: 0.6665 - val_loss: 0.5947 - val_accuracy: 0.6782\n",
      "Epoch 28/30\n",
      "172/172 [==============================] - 114s 666ms/step - loss: 0.6135 - accuracy: 0.6654 - val_loss: 0.6408 - val_accuracy: 0.6273\n",
      "Epoch 29/30\n",
      "172/172 [==============================] - 115s 668ms/step - loss: 0.6146 - accuracy: 0.6634 - val_loss: 0.6597 - val_accuracy: 0.6059\n",
      "Epoch 30/30\n",
      "172/172 [==============================] - 115s 666ms/step - loss: 0.6082 - accuracy: 0.6738 - val_loss: 0.5816 - val_accuracy: 0.7061\n",
      "48/48 [==============================] - 26s 545ms/step - loss: 0.5875 - accuracy: 0.7012\n"
     ]
    },
    {
     "data": {
      "text/plain": [
       "[0.5875425338745117, 0.70124751329422]"
      ]
     },
     "execution_count": 18,
     "metadata": {},
     "output_type": "execute_result"
    }
   ],
   "source": [
    "history = model.fit(X_train, y_train, epochs=30, validation_split=0.1)\n",
    "\n",
    "model.evaluate(X_test, y_test, verbose=1)"
   ]
  },
  {
   "cell_type": "markdown",
   "id": "8f3b34c9",
   "metadata": {
    "id": "M4EBwwBsHbHo",
    "papermill": {
     "duration": 0.407017,
     "end_time": "2023-05-19T09:36:37.907369",
     "exception": false,
     "start_time": "2023-05-19T09:36:37.500352",
     "status": "completed"
    },
    "tags": []
   },
   "source": [
    "### Results:"
   ]
  },
  {
   "cell_type": "code",
   "execution_count": 19,
   "id": "1d4c98b6",
   "metadata": {
    "execution": {
     "iopub.execute_input": "2023-05-19T09:36:38.793957Z",
     "iopub.status.busy": "2023-05-19T09:36:38.793594Z",
     "iopub.status.idle": "2023-05-19T09:37:21.193071Z",
     "shell.execute_reply": "2023-05-19T09:37:21.187260Z"
    },
    "id": "B7D6dPi0HWFL",
    "outputId": "869001b7-0bd5-4c7a-de52-698964569dc2",
    "papermill": {
     "duration": 43.280259,
     "end_time": "2023-05-19T09:37:21.605045",
     "exception": false,
     "start_time": "2023-05-19T09:36:38.324786",
     "status": "completed"
    },
    "tags": []
   },
   "outputs": [
    {
     "name": "stdout",
     "output_type": "stream",
     "text": [
      "48/48 [==============================] - 27s 536ms/step\n",
      "Confusion Matrix\n",
      "[[734 107]\n",
      " [348 334]]\n",
      "              precision    recall  f1-score   support\n",
      "\n",
      "           0       0.68      0.87      0.76       841\n",
      "           1       0.76      0.49      0.59       682\n",
      "\n",
      "    accuracy                           0.70      1523\n",
      "   macro avg       0.72      0.68      0.68      1523\n",
      "weighted avg       0.71      0.70      0.69      1523\n",
      "\n"
     ]
    }
   ],
   "source": [
    "y_test_arg = np.argmax(y_test, axis=1)\n",
    "y_test_arg[1]\n",
    "y_pred = np.argmax(model.predict(X_test),axis=1)\n",
    "print('Confusion Matrix')\n",
    "print(confusion_matrix(y_test_arg, y_pred))\n",
    "print(metrics.classification_report(y_test_arg, y_pred))"
   ]
  },
  {
   "cell_type": "markdown",
   "id": "39e38073",
   "metadata": {
    "papermill": {
     "duration": 0.405723,
     "end_time": "2023-05-19T09:37:22.418614",
     "exception": false,
     "start_time": "2023-05-19T09:37:22.012891",
     "status": "completed"
    },
    "tags": []
   },
   "source": [
    "### Accuracy vs Loss:"
   ]
  },
  {
   "cell_type": "code",
   "execution_count": 20,
   "id": "4fb1766b",
   "metadata": {
    "execution": {
     "iopub.execute_input": "2023-05-19T09:37:23.242069Z",
     "iopub.status.busy": "2023-05-19T09:37:23.241724Z",
     "iopub.status.idle": "2023-05-19T09:37:23.629129Z",
     "shell.execute_reply": "2023-05-19T09:37:23.628199Z"
    },
    "papermill": {
     "duration": 0.79579,
     "end_time": "2023-05-19T09:37:23.631364",
     "exception": false,
     "start_time": "2023-05-19T09:37:22.835574",
     "status": "completed"
    },
    "tags": []
   },
   "outputs": [
    {
     "data": {
      "image/png": "[encoded data removed]",
      "text/plain": [
       "<Figure size 1000x600 with 1 Axes>"
      ]
     },
     "metadata": {},
     "output_type": "display_data"
    }
   ],
   "source": [
    "pd.DataFrame(history.history).plot(figsize=(10,6))\n",
    "plt.show()"
   ]
  }
 ],
 "metadata": {
  "kernelspec": {
   "display_name": "Python 3",
   "language": "python",
   "name": "python3"
  },
  "language_info": {
   "codemirror_mode": {
    "name": "ipython",
    "version": 3
   },
   "file_extension": ".py",
   "mimetype": "text/x-python",
   "name": "python",
   "nbconvert_exporter": "python",
   "pygments_lexer": "ipython3",
   "version": "3.10.10"
  },
  "papermill": {
   "default_parameters": {},
   "duration": 3529.738984,
   "end_time": "2023-05-19T09:37:27.269814",
   "environment_variables": {},
   "exception": null,
   "input_path": "__notebook__.ipynb",
   "output_path": "__notebook__.ipynb",
   "parameters": {},
   "start_time": "2023-05-19T08:38:37.530830",
   "version": "2.4.0"
  }
 },
 "nbformat": 4,
 "nbformat_minor": 5
}
